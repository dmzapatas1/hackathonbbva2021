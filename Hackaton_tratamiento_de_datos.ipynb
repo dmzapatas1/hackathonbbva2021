{
  "nbformat": 4,
  "nbformat_minor": 0,
  "metadata": {
    "accelerator": "TPU",
    "colab": {
      "name": "Hackaton_tratamiento_de_datos.ipynb",
      "provenance": [],
      "collapsed_sections": [],
      "include_colab_link": true
    },
    "kernelspec": {
      "display_name": "Python 3",
      "name": "python3"
    },
    "language_info": {
      "name": "python"
    }
  },
  "cells": [
    {
      "cell_type": "markdown",
      "metadata": {
        "id": "view-in-github",
        "colab_type": "text"
      },
      "source": [
        "<a href=\"https://colab.research.google.com/github/dmzapatas1/hackathonbbva2021/blob/master/Hackaton_tratamiento_de_datos.ipynb\" target=\"_parent\"><img src=\"https://colab.research.google.com/assets/colab-badge.svg\" alt=\"Open In Colab\"/></a>"
      ]
    },
    {
      "cell_type": "code",
      "metadata": {
        "id": "ZuwmrUsz3qZV"
      },
      "source": [
        "# Tratamiento de datos\n",
        "# ==============================================================================\n",
        "import numpy as np\n",
        "import pandas as pd\n",
        "from tabulate import tabulate\n",
        "\n",
        "# Gráficos\n",
        "# ==============================================================================\n",
        "import matplotlib.pyplot as plt\n",
        "from matplotlib import style\n",
        "import matplotlib.ticker as ticker\n",
        "import seaborn as sns"
      ],
      "execution_count": null,
      "outputs": []
    },
    {
      "cell_type": "code",
      "metadata": {
        "id": "_E5Fwj0F33Bg"
      },
      "source": [
        "# Configuración matplotlib\n",
        "# ==============================================================================\n",
        "plt.rcParams['image.cmap'] = \"bwr\"\n",
        "#plt.rcParams['figure.dpi'] = \"100\"\n",
        "plt.rcParams['savefig.bbox'] = \"tight\"\n",
        "style.use('ggplot') or plt.style.use('ggplot')\n",
        "\n",
        "# Configuración warnings\n",
        "# ==============================================================================\n",
        "import warnings\n",
        "warnings.filterwarnings('ignore')"
      ],
      "execution_count": null,
      "outputs": []
    },
    {
      "cell_type": "code",
      "metadata": {
        "colab": {
          "base_uri": "https://localhost:8080/"
        },
        "id": "lxFQkcLb2hgr",
        "outputId": "8736e3de-2756-43bd-a1a3-1c4e3816dfec"
      },
      "source": [
        "from google.colab import drive\n",
        "drive.mount('/content/drive')"
      ],
      "execution_count": null,
      "outputs": [
        {
          "output_type": "stream",
          "name": "stdout",
          "text": [
            "Mounted at /content/drive\n"
          ]
        }
      ]
    },
    {
      "cell_type": "code",
      "metadata": {
        "id": "klscRID667jx"
      },
      "source": [
        "url1 = \"/content/drive/MyDrive/Copy_of_base_01_V3.csv\"\n",
        "datos1 = pd.read_csv(url1, sep=\"|\")\n",
        "url2 = \"/content/drive/MyDrive/Copy_of_base_02_V3.csv\"\n",
        "datos2 = pd.read_csv(url2, sep=\"|\")\n",
        "url3 = \"/content/drive/MyDrive/Copy_of_base_03_V3.csv\"\n",
        "datos3 = pd.read_csv(url3, sep=\"|\")\n",
        "url4 = \"/content/drive/MyDrive/Copy_of_base_04_V3.csv\"\n",
        "datos4 = pd.read_csv(url4, sep=\"|\")\n",
        "url5 = \"/content/drive/MyDrive/Copy_of_base_05_V3.csv\"\n",
        "datos5 = pd.read_csv(url5, sep=\"|\")\n",
        "url6 = \"/content/drive/MyDrive/Copy_of_base_06_V3.csv\"\n",
        "datos6 = pd.read_csv(url6, sep=\"|\")\n",
        "url7 = \"/content/drive/MyDrive/Copy_of_base_07_V3.csv\"\n",
        "datos7 = pd.read_csv(url7, sep=\"|\")\n"
      ],
      "execution_count": null,
      "outputs": []
    },
    {
      "cell_type": "code",
      "metadata": {
        "id": "T7gAym1RTX1Q"
      },
      "source": [
        "#Dimensiones del dataset\n",
        "datos1.shape"
      ],
      "execution_count": null,
      "outputs": []
    },
    {
      "cell_type": "code",
      "metadata": {
        "id": "88hWLJWfWl2m"
      },
      "source": [
        "#Dimensiones del dataset\n",
        "datos2.shape"
      ],
      "execution_count": null,
      "outputs": []
    },
    {
      "cell_type": "code",
      "metadata": {
        "id": "_gbIpYscX1ij"
      },
      "source": [
        "#Dimensiones del dataset\n",
        "datos3.shape"
      ],
      "execution_count": null,
      "outputs": []
    },
    {
      "cell_type": "code",
      "metadata": {
        "id": "xE1oGxByYJBV"
      },
      "source": [
        "#Dimensiones del dataset\n",
        "datos4.shape"
      ],
      "execution_count": null,
      "outputs": []
    },
    {
      "cell_type": "code",
      "metadata": {
        "id": "yyhwgbc9J9Tr"
      },
      "source": [
        "#Dimensiones del dataset\n",
        "datos5.shape"
      ],
      "execution_count": null,
      "outputs": []
    },
    {
      "cell_type": "code",
      "metadata": {
        "id": "hsNX64XfKJp5"
      },
      "source": [
        "#Dimensiones del dataset\n",
        "datos6.shape"
      ],
      "execution_count": null,
      "outputs": []
    },
    {
      "cell_type": "code",
      "metadata": {
        "id": "MhfTVN5AKME2"
      },
      "source": [
        "#Dimensiones del dataset\n",
        "datos7.shape"
      ],
      "execution_count": null,
      "outputs": []
    },
    {
      "cell_type": "code",
      "metadata": {
        "id": "Q1fzlz7Xf_Lv"
      },
      "source": [
        "from sklearn.datasets import make_blobs\n",
        "from sklearn.cluster import KMeans\n",
        "from sklearn.metrics import silhouette_samples, silhouette_score\n",
        "#Kmeans Clustering\n",
        "import time\n",
        "ti = time.process_time() # empieza reloj\n",
        "localtime = time.asctime( time.localtime(time.time()) ) # hora del reloj al empezar\n",
        "print(' ')\n",
        "print(\"Empecé :\", localtime)\n",
        "X =datos4_rent_cliente\n",
        "range_n_clusters = [2, 3]\n",
        "\n",
        "for n_clusters in range_n_clusters:\n",
        "    #Initializing the clusterer with n_clusters value and a random   generator\n",
        "    clusterer = KMeans(n_clusters=n_clusters, random_state=10)\n",
        "    cluster_labels = clusterer.fit_predict(X)\n",
        "    #The silhouette_score gives the average value for all the   samples.\n",
        "    #Calculating number of clusters\n",
        "    silhouette_avg = silhouette_score(X, cluster_labels)\n",
        "    print(\"For n_clusters =\", n_clusters,\"The average   silhoutte_score is :\", silhouette_avg)\n",
        "    \n",
        "localtime = time.asctime( time.localtime(time.time()) ) # hora del reloj al terminar \n",
        "\n",
        "print('t cálculo en minutos: ',(time.process_time()-ti)/60) # Tiempo de calculo"
      ],
      "execution_count": null,
      "outputs": []
    },
    {
      "cell_type": "code",
      "metadata": {
        "id": "x2URAh_TWn2X"
      },
      "source": [
        "\n",
        "# Ajustar número de subplots en función del número de columnas\n",
        "fig, axes = plt.subplots(nrows=1, ncols=3, figsize=(9, 5))\n",
        "axes = axes.flat\n",
        "columnas_numeric = train_45lite_data_rentabilidad_proren.select_dtypes(include=['float64', 'int']).columns\n",
        "columnas_numeric = columnas_numeric.drop('PRODUCTO')\n",
        "\n",
        "for i, colum in enumerate(columnas_numeric):\n",
        "    sns.regplot(\n",
        "        x           = train_45lite_data_rentabilidad_proren[\"PRODUCTO\"],\n",
        "        y           = train_45lite_data_rentabilidad_proren[colum],\n",
        "        color       = \"gray\",\n",
        "        marker      = '.',\n",
        "        scatter_kws = {\"alpha\":0.4},\n",
        "        line_kws    = {\"color\":\"r\",\"alpha\":0.7},\n",
        "        ax          = axes[i]\n",
        "    )\n",
        "    axes[i].set_title(f\"PRODUCTO vs {colum}\", fontsize = 7, fontweight = \"bold\")\n",
        "    #axes[i].ticklabel_format(style='sci', scilimits=(-4,4), axis='both')\n",
        "    axes[i].yaxis.set_major_formatter(ticker.EngFormatter())\n",
        "    axes[i].xaxis.set_major_formatter(ticker.EngFormatter())\n",
        "    axes[i].tick_params(labelsize = 6)\n",
        "    axes[i].set_xlabel(\"\")\n",
        "    axes[i].set_ylabel(\"\")\n",
        "\n",
        "# Se eliminan los axes vacíos\n",
        "for i in [5]:\n",
        "    fig.delaxes(axes[i])\n",
        "    \n",
        "fig.tight_layout()\n",
        "plt.subplots_adjust(top=0.9)\n",
        "fig.suptitle('Correlación con PRODUCTO', fontsize = 10, fontweight = \"bold\");"
      ],
      "execution_count": null,
      "outputs": []
    },
    {
      "cell_type": "code",
      "metadata": {
        "id": "j4LNUYaFdAvU"
      },
      "source": [
        "train1 = datos1.sample(int(datos1.shape[0]*0.6))\n",
        "train2 = datos2.sample(int(datos2.shape[0]*0.6))\n",
        "train3 = datos3.sample(int(datos3.shape[0]*0.6))\n",
        "train4 = datos4.sample(int(datos4.shape[0]*0.6))\n",
        "train5 = datos5.sample(int(datos5.shape[0]*0.6))\n",
        "train6 = datos6.sample(int(datos6.shape[0]*0.6))\n",
        "train7 = datos7.sample(int(datos7.shape[0]*0.6))\n",
        "\n",
        "train3.head(10)\n",
        "\n",
        "train1_good = train1[[\"PERIODO\", \"CODIGO_CLIENTE\", \"INGRESO_MENSUAL\"]]\n",
        "train3_good = train3[[\"PERIODO\", \"CODIGO_CLIENTE\", \"T_CARGO_RECURRENTE\", \"T_AFILIACION_DIGITAL\", \"VINCULACION_PN\", \"VINCULACION_EMPRESA\", \"SALDO_MEDIO_TARJETAS\", \"SALDO_MEDIO_CONSUMO\", \"SALDO_MEDIO_HIPOTECARIO\", \"SALDO_MEDIO_PRESTAMOS_COMERCIALES\", \"SALDO_MEDIO_TJ_EMPRESAS\", \"SALDO_MEDIO_AUTOS\", \"SALDO_MEDIO_LEASING\", \"SALDO_MEDIO_COMEXT\", \"SALDO_MEDIO_CARTERA\"]]\n",
        "train4_good = train4[[\"PERIODO\", \"CODIGO_CLIENTE\", \"SALDO_PUNTUAL\", \"RATIO_RENTABILIDAD\"]]\n",
        "train5_good = train5[[\"PERIODO\", \"CODIGO_CLIENTE\", \"SALDO_PUNTUAL\"]]\n",
        "train6_good = train6[[\"PERIODO\", \"CODIGO_CLIENTE\", \"TIPO_TRANSACCION\"]]\n",
        "train7_good = train7[[\"PERIODO\", \"CODIGO_CLIENTE\", \"ENTIDAD\", \"SALDO\"]]\n"
      ],
      "execution_count": null,
      "outputs": []
    },
    {
      "cell_type": "code",
      "metadata": {
        "id": "e8U-YlflIoWG"
      },
      "source": [
        "train3_good.head(1000000)"
      ],
      "execution_count": null,
      "outputs": []
    },
    {
      "cell_type": "code",
      "metadata": {
        "id": "efk764c1IpCa"
      },
      "source": [
        "train3_good.head(1000)"
      ],
      "execution_count": null,
      "outputs": []
    },
    {
      "cell_type": "code",
      "metadata": {
        "colab": {
          "base_uri": "https://localhost:8080/"
        },
        "id": "rTN0URSMoKtq",
        "outputId": "f68f8602-e3a4-441d-e974-d6af16f61aaa"
      },
      "source": [
        "train1_good.shape"
      ],
      "execution_count": null,
      "outputs": [
        {
          "output_type": "execute_result",
          "data": {
            "text/plain": [
              "(994003, 3)"
            ]
          },
          "metadata": {},
          "execution_count": 93
        }
      ]
    },
    {
      "cell_type": "code",
      "metadata": {
        "colab": {
          "base_uri": "https://localhost:8080/"
        },
        "id": "yduXRmgyoKT0",
        "outputId": "691647ab-a987-4199-b77b-f4483042d97e"
      },
      "source": [
        "train3_good.shape"
      ],
      "execution_count": null,
      "outputs": [
        {
          "output_type": "execute_result",
          "data": {
            "text/plain": [
              "(618915, 15)"
            ]
          },
          "metadata": {},
          "execution_count": 94
        }
      ]
    },
    {
      "cell_type": "code",
      "metadata": {
        "id": "6AWUHEiOfSMa",
        "colab": {
          "base_uri": "https://localhost:8080/"
        },
        "outputId": "359cac6c-a0fb-407c-89be-d451850aa56f"
      },
      "source": [
        "train_primer_dupla = pd.merge(train1_good, train3_good, on=(\"CODIGO_CLIENTE\", \"PERIODO\"), how=\"outer\")\n",
        "#datos_segunda_dupla = datos2\n",
        "\n",
        "train_primer_dupla.shape"
      ],
      "execution_count": null,
      "outputs": [
        {
          "output_type": "execute_result",
          "data": {
            "text/plain": [
              "(1241147, 16)"
            ]
          },
          "metadata": {},
          "execution_count": 95
        }
      ]
    },
    {
      "cell_type": "code",
      "metadata": {
        "colab": {
          "base_uri": "https://localhost:8080/"
        },
        "id": "85g-vEBgwxPP",
        "outputId": "9b3c8359-5d90-4352-fd9d-2eb857eec9a1"
      },
      "source": [
        "train_segunda_dupla = pd.merge(train_primer_dupla, train4_good, on=(\"CODIGO_CLIENTE\", \"PERIODO\"), how=\"outer\")\n",
        "train_segunda_dupla.shape"
      ],
      "execution_count": null,
      "outputs": [
        {
          "output_type": "execute_result",
          "data": {
            "text/plain": [
              "(1329442, 18)"
            ]
          },
          "metadata": {},
          "execution_count": 96
        }
      ]
    },
    {
      "cell_type": "code",
      "metadata": {
        "colab": {
          "base_uri": "https://localhost:8080/"
        },
        "id": "UV0z-ogXw5d7",
        "outputId": "319771fb-e96a-4a30-f836-59132e351b76"
      },
      "source": [
        "train_tercera_dupla = pd.merge(train_segunda_dupla, train5_good, on=(\"CODIGO_CLIENTE\", \"PERIODO\"), how=\"outer\")\n",
        "train_tercera_dupla.shape"
      ],
      "execution_count": null,
      "outputs": [
        {
          "output_type": "execute_result",
          "data": {
            "text/plain": [
              "(1428000, 19)"
            ]
          },
          "metadata": {},
          "execution_count": 97
        }
      ]
    },
    {
      "cell_type": "code",
      "metadata": {
        "colab": {
          "base_uri": "https://localhost:8080/"
        },
        "id": "5Dp8vhIQxRhR",
        "outputId": "4bdae7c3-58ce-48af-ac6d-39837338821b"
      },
      "source": [
        "train_cuarta_dupla = pd.merge(train_tercera_dupla, train6_good, on=(\"CODIGO_CLIENTE\", \"PERIODO\"), how=\"outer\")\n",
        "train_cuarta_dupla.shape"
      ],
      "execution_count": null,
      "outputs": [
        {
          "output_type": "execute_result",
          "data": {
            "text/plain": [
              "(2720507, 20)"
            ]
          },
          "metadata": {},
          "execution_count": 98
        }
      ]
    },
    {
      "cell_type": "code",
      "metadata": {
        "colab": {
          "base_uri": "https://localhost:8080/"
        },
        "id": "reSVgyANxYFe",
        "outputId": "76d7dcc4-4e87-48af-a761-81eff00de985"
      },
      "source": [
        "dupla_cluster = pd.merge(train_cuarta_dupla, train7_good, on=(\"CODIGO_CLIENTE\", \"PERIODO\"), how=\"outer\")\n",
        "dupla_cluster.shape"
      ],
      "execution_count": null,
      "outputs": [
        {
          "output_type": "execute_result",
          "data": {
            "text/plain": [
              "(3902663, 22)"
            ]
          },
          "metadata": {},
          "execution_count": 99
        }
      ]
    },
    {
      "cell_type": "code",
      "metadata": {
        "id": "5I2MNZt0OfiY"
      },
      "source": [
        "dupla_cluster_final = dupla_cluster[dupla_cluster.INGRESO_MENSUAL.notnull() & dupla_cluster.T_AFILIACION_DIGITAL.notnull() & dupla_cluster.T_CARGO_RECURRENTE.notnull() & dupla_cluster.VINCULACION_PN.notnull() & dupla_cluster.VINCULACION_EMPRESA.notnull() & dupla_cluster.SALDO_MEDIO_TARJETAS.notnull() & dupla_cluster.SALDO_MEDIO_CONSUMO.notnull() & dupla_cluster.SALDO_MEDIO_HIPOTECARIO.notnull() & dupla_cluster.SALDO_MEDIO_PRESTAMOS_COMERCIALES.notnull() & dupla_cluster.SALDO_MEDIO_TJ_EMPRESAS.notnull() & dupla_cluster.SALDO_MEDIO_AUTOS.notnull() & dupla_cluster.SALDO_MEDIO_COMEXT.notnull() & dupla_cluster.SALDO_MEDIO_CARTERA.notnull() & dupla_cluster.SALDO_PUNTUAL_x.notnull() & dupla_cluster.RATIO_RENTABILIDAD.notnull() & dupla_cluster.SALDO_PUNTUAL_y.notnull() & dupla_cluster.TIPO_TRANSACCION.notnull() & dupla_cluster.ENTIDAD.notnull() & dupla_cluster.SALDO.notnull()]"
      ],
      "execution_count": null,
      "outputs": []
    },
    {
      "cell_type": "code",
      "metadata": {
        "id": "9-2iHwe91eMB"
      },
      "source": [
        "dupla_cluster_final.ENTIDAD[dupla_cluster.ENTIDAD == 'BBVA'] = 0\n",
        "dupla_cluster_final.ENTIDAD[dupla_cluster.ENTIDAD == 'OTRO'] = 1"
      ],
      "execution_count": null,
      "outputs": []
    },
    {
      "cell_type": "code",
      "metadata": {
        "colab": {
          "base_uri": "https://localhost:8080/"
        },
        "id": "BS4nRNFa1U5n",
        "outputId": "5445b2b0-376f-4507-80e5-38a3d2a5c9b1"
      },
      "source": [
        "dupla_cluster_final = dupla_cluster_final.sample(int(dupla_cluster_final.shape[0]*0.8))\n",
        "\n",
        "dupla_cluster_final.shape"
      ],
      "execution_count": null,
      "outputs": [
        {
          "output_type": "execute_result",
          "data": {
            "text/plain": [
              "(173769, 22)"
            ]
          },
          "metadata": {},
          "execution_count": 102
        }
      ]
    },
    {
      "cell_type": "code",
      "metadata": {
        "colab": {
          "base_uri": "https://localhost:8080/"
        },
        "id": "ZXDO-h2KtXWu",
        "outputId": "17e5eb9b-50cb-4830-fa1c-78f5ccecbd39"
      },
      "source": [
        "from sklearn.cluster import KMeans\n",
        "from sklearn.metrics import silhouette_samples, silhouette_score\n",
        "#Kmeans Clustering\n",
        "import time\n",
        "ti = time.process_time() # empieza reloj\n",
        "localtime = time.asctime( time.localtime(time.time()) ) # hora del reloj al empezar\n",
        "print(' ')\n",
        "print(\"Empecé :\", localtime)\n",
        "X = dupla_cluster_final\n",
        "range_n_clusters = [5]\n",
        "\n",
        "for n_clusters in range_n_clusters:\n",
        "    #Initializing the clusterer with n_clusters value and a random   generator\n",
        "    clusterer = KMeans(n_clusters=n_clusters, random_state=5)\n",
        "    cluster_labels = clusterer.fit_predict(X)\n",
        "    #The silhouette_score gives the average value for all the   samples.\n",
        "    #Calculating number of clusters\n",
        "    silhouette_avg = silhouette_score(X, cluster_labels)\n",
        "    print(\"For n_clusters =\", n_clusters,\"The average silhoutte_score is :\", silhouette_avg)\n",
        "    \n",
        "localtime = time.asctime( time.localtime(time.time()) ) # hora del reloj al terminar \n",
        "\n",
        "print('t cálculo en minutos: ',(time.process_time()-ti)/60) # Tiempo de calculo"
      ],
      "execution_count": null,
      "outputs": [
        {
          "output_type": "stream",
          "name": "stdout",
          "text": [
            " \n",
            "Empecé : Sun Oct 24 06:05:55 2021\n",
            "For n_clusters = 5 The average silhoutte_score is : 0.5833509864204974\n",
            "t cálculo en minutos:  9.744847636350006\n"
          ]
        }
      ]
    },
    {
      "cell_type": "code",
      "metadata": {
        "id": "oxnolp-yMOpm"
      },
      "source": [
        "train1 = datos1.sample(int(datos1.shape[0]*0.1))\n",
        "#train5.merge(train4,on='CODIGO_CLIENTE')\n",
        "\n",
        "periodos1 = datos1.drop_duplicates(\"PERIODO\") \n",
        "\n",
        "#datos_totales = datos1.merge([[\"INGRESOS_MENSUAL\"]] + datos3[[\"VINCULACION_PN\", \"VINCULACION_EMPRESAS\", \"SALDO_MEDIO_TARJETAS\", \"SALDO_MEDIO_CONSUMO\", \"SALDO_MEDIO_HIPOTECARIO\", \"SALDO_MEDIO_PRESTAMOS_COMERCIALES\", \"SALDO_MEDIO_TJ_EMPRESAS\", \"SALDO_MEDIO_AUTOS\", \"SALDO_MEDIO_LEASING\", \"SALDO_MEDIO_COMEXT\", \"SALDO_MEDIO_CARTERA\"]] datos4[[\"SALDO_PUNTUAL\", \"RATIO_RENTABILIDAD\"]] datos5[[\"SALDO_PUNTUAL\"]] datos6[[\"TIPO_DE_TRANSACCIÓN\"]] datos7[[\"ENTIDAD\", \"SALDO\"]] \n",
        "                             \n",
        "periodos.head()                             "
      ],
      "execution_count": null,
      "outputs": []
    },
    {
      "cell_type": "code",
      "metadata": {
        "id": "seaUYZot4vPZ"
      },
      "source": [
        "muestra1 = dupla_cluster_final.sample(int(dupla_cluster_final.shape[0]*0.5))[[\"CODIGO_CLIENTE\", \"PERIODO\", \"RATIO_RENTABILIDAD\", \"T_AFILIACION_DIGITAL\", \"T_CARGO_RECURRENTE\"]]"
      ],
      "execution_count": null,
      "outputs": []
    },
    {
      "cell_type": "code",
      "metadata": {
        "id": "BksiwApf8n3h",
        "colab": {
          "base_uri": "https://localhost:8080/",
          "height": 770
        },
        "outputId": "0da0122f-eadc-4b90-b4ec-89bddf7ea2c4"
      },
      "source": [
        "# Gráfico de distribución para cada variable numérica\n",
        "# ==============================================================================\n",
        "# Ajustar número de subplots en función del número de columnas\n",
        "fig, axes = plt.subplots(nrows=2, ncols=2, figsize=(14, 9))\n",
        "axes = axes.flat\n",
        "columnas_numeric = muestra1.select_dtypes(include=['float64', 'int']).columns\n",
        "columnas_numeric = columnas_numeric.drop('CODIGO_CLIENTE')\n",
        "\n",
        "for i, colum in enumerate(columnas_numeric):\n",
        "    sns.regplot(\n",
        "        x           = dupla_cluster['CODIGO_CLIENTE'],\n",
        "        y           = dupla_cluster[colum],\n",
        "        color       = \"gray\",\n",
        "        marker      = '.',\n",
        "        scatter_kws = {\"alpha\":0.4},\n",
        "        line_kws    = {\"color\":\"r\",\"alpha\":0.7},\n",
        "        ax          = axes[i]\n",
        "    )\n",
        "    axes[i].set_title(f\"CODIGO_CLIENTE vs {colum}\", fontsize = 7, fontweight = \"bold\")\n",
        "    #axes[i].ticklabel_format(style='sci', scilimits=(-4,4), axis='both')\n",
        "    axes[i].yaxis.set_major_formatter(ticker.EngFormatter())\n",
        "    axes[i].xaxis.set_major_formatter(ticker.EngFormatter())\n",
        "    axes[i].tick_params(labelsize = 6)\n",
        "    axes[i].set_xlabel(\"\")\n",
        "    axes[i].set_ylabel(\"\")\n",
        "\n",
        "# Se eliminan los axes vacíos\n",
        "for i in [5]:\n",
        "    fig.delaxes(axes[i])\n",
        "    \n",
        "fig.tight_layout()\n",
        "plt.subplots_adjust(top=1)\n",
        "fig.suptitle('Correlación a través del tiempo', fontsize = 10, fontweight = \"bold\");"
      ],
      "execution_count": null,
      "outputs": [
        {
          "output_type": "error",
          "ename": "IndexError",
          "evalue": "ignored",
          "traceback": [
            "\u001b[0;31m---------------------------------------------------------------------------\u001b[0m",
            "\u001b[0;31mIndexError\u001b[0m                                Traceback (most recent call last)",
            "\u001b[0;32m<ipython-input-105-09a40ca8acf1>\u001b[0m in \u001b[0;36m<module>\u001b[0;34m()\u001b[0m\n\u001b[1;32m     27\u001b[0m \u001b[0;31m# Se eliminan los axes vacíos\u001b[0m\u001b[0;34m\u001b[0m\u001b[0;34m\u001b[0m\u001b[0;34m\u001b[0m\u001b[0m\n\u001b[1;32m     28\u001b[0m \u001b[0;32mfor\u001b[0m \u001b[0mi\u001b[0m \u001b[0;32min\u001b[0m \u001b[0;34m[\u001b[0m\u001b[0;36m5\u001b[0m\u001b[0;34m]\u001b[0m\u001b[0;34m:\u001b[0m\u001b[0;34m\u001b[0m\u001b[0;34m\u001b[0m\u001b[0m\n\u001b[0;32m---> 29\u001b[0;31m     \u001b[0mfig\u001b[0m\u001b[0;34m.\u001b[0m\u001b[0mdelaxes\u001b[0m\u001b[0;34m(\u001b[0m\u001b[0maxes\u001b[0m\u001b[0;34m[\u001b[0m\u001b[0mi\u001b[0m\u001b[0;34m]\u001b[0m\u001b[0;34m)\u001b[0m\u001b[0;34m\u001b[0m\u001b[0;34m\u001b[0m\u001b[0m\n\u001b[0m\u001b[1;32m     30\u001b[0m \u001b[0;34m\u001b[0m\u001b[0m\n\u001b[1;32m     31\u001b[0m \u001b[0mfig\u001b[0m\u001b[0;34m.\u001b[0m\u001b[0mtight_layout\u001b[0m\u001b[0;34m(\u001b[0m\u001b[0;34m)\u001b[0m\u001b[0;34m\u001b[0m\u001b[0;34m\u001b[0m\u001b[0m\n",
            "\u001b[0;31mIndexError\u001b[0m: index 5 is out of bounds for axis 0 with size 4"
          ]
        },
        {
          "output_type": "display_data",
          "data": {
            "image/png": "[encoded data removed]",
            "text/plain": [
              "<Figure size 1008x648 with 4 Axes>"
            ]
          },
          "metadata": {}
        }
      ]
    },
    {
      "cell_type": "code",
      "metadata": {
        "colab": {
          "base_uri": "https://localhost:8080/",
          "height": 770
        },
        "id": "DhbxyOqC-jVc",
        "outputId": "8123bec3-7acd-45dc-c2e4-bce90e9f6282"
      },
      "source": [
        "# Gráfico de distribución para cada variable numérica\n",
        "# ==============================================================================\n",
        "# Ajustar número de subplots en función del número de columnas\n",
        "fig, axes = plt.subplots(nrows=3, ncols=3, figsize=(14, 9))\n",
        "axes = axes.flat\n",
        "columnas_numeric = dupla_cluster.select_dtypes(include=['float64', 'int']).columns\n",
        "columnas_numeric = columnas_numeric.drop('SALDO_PUNTUAL_y')\n",
        "\n",
        "for i, colum in enumerate(columnas_numeric):\n",
        "    sns.regplot(\n",
        "        x           = dupla_cluster[colum],\n",
        "        y           = dupla_cluster['SALDO_PUNTUAL_y'],\n",
        "        color       = \"gray\",\n",
        "        marker      = '.',\n",
        "        scatter_kws = {\"alpha\":0.4},\n",
        "        line_kws    = {\"color\":\"r\",\"alpha\":0.7},\n",
        "        ax          = axes[i]\n",
        "    )\n",
        "    axes[i].set_title(f\"Saldo puntual y vs {colum}\", fontsize = 7, fontweight = \"bold\")\n",
        "    #axes[i].ticklabel_format(style='sci', scilimits=(-4,4), axis='both')\n",
        "    axes[i].yaxis.set_major_formatter(ticker.EngFormatter())\n",
        "    axes[i].xaxis.set_major_formatter(ticker.EngFormatter())\n",
        "    axes[i].tick_params(labelsize = 6)\n",
        "    axes[i].set_xlabel(\"\")\n",
        "    axes[i].set_ylabel(\"\")\n",
        "\n",
        "# Se eliminan los axes vacíos\n",
        "for i in [8]:\n",
        "    fig.delaxes(axes[i])\n",
        "    \n",
        "fig.tight_layout()\n",
        "plt.subplots_adjust(top=1)\n",
        "fig.suptitle('Correlación con saldo y', fontsize = 10, fontweight = \"bold\");"
      ],
      "execution_count": null,
      "outputs": [
        {
          "output_type": "error",
          "ename": "IndexError",
          "evalue": "ignored",
          "traceback": [
            "\u001b[0;31m---------------------------------------------------------------------------\u001b[0m",
            "\u001b[0;31mIndexError\u001b[0m                                Traceback (most recent call last)",
            "\u001b[0;32m<ipython-input-101-4e8b402ecd8f>\u001b[0m in \u001b[0;36m<module>\u001b[0;34m()\u001b[0m\n\u001b[1;32m     15\u001b[0m         \u001b[0mscatter_kws\u001b[0m \u001b[0;34m=\u001b[0m \u001b[0;34m{\u001b[0m\u001b[0;34m\"alpha\"\u001b[0m\u001b[0;34m:\u001b[0m\u001b[0;36m0.4\u001b[0m\u001b[0;34m}\u001b[0m\u001b[0;34m,\u001b[0m\u001b[0;34m\u001b[0m\u001b[0;34m\u001b[0m\u001b[0m\n\u001b[1;32m     16\u001b[0m         \u001b[0mline_kws\u001b[0m    \u001b[0;34m=\u001b[0m \u001b[0;34m{\u001b[0m\u001b[0;34m\"color\"\u001b[0m\u001b[0;34m:\u001b[0m\u001b[0;34m\"r\"\u001b[0m\u001b[0;34m,\u001b[0m\u001b[0;34m\"alpha\"\u001b[0m\u001b[0;34m:\u001b[0m\u001b[0;36m0.7\u001b[0m\u001b[0;34m}\u001b[0m\u001b[0;34m,\u001b[0m\u001b[0;34m\u001b[0m\u001b[0;34m\u001b[0m\u001b[0m\n\u001b[0;32m---> 17\u001b[0;31m         \u001b[0max\u001b[0m          \u001b[0;34m=\u001b[0m \u001b[0maxes\u001b[0m\u001b[0;34m[\u001b[0m\u001b[0mi\u001b[0m\u001b[0;34m]\u001b[0m\u001b[0;34m\u001b[0m\u001b[0;34m\u001b[0m\u001b[0m\n\u001b[0m\u001b[1;32m     18\u001b[0m     )\n\u001b[1;32m     19\u001b[0m     \u001b[0maxes\u001b[0m\u001b[0;34m[\u001b[0m\u001b[0mi\u001b[0m\u001b[0;34m]\u001b[0m\u001b[0;34m.\u001b[0m\u001b[0mset_title\u001b[0m\u001b[0;34m(\u001b[0m\u001b[0;34mf\"Saldo puntual y vs {colum}\"\u001b[0m\u001b[0;34m,\u001b[0m \u001b[0mfontsize\u001b[0m \u001b[0;34m=\u001b[0m \u001b[0;36m7\u001b[0m\u001b[0;34m,\u001b[0m \u001b[0mfontweight\u001b[0m \u001b[0;34m=\u001b[0m \u001b[0;34m\"bold\"\u001b[0m\u001b[0;34m)\u001b[0m\u001b[0;34m\u001b[0m\u001b[0;34m\u001b[0m\u001b[0m\n",
            "\u001b[0;31mIndexError\u001b[0m: index 9 is out of bounds for axis 0 with size 9"
          ]
        },
        {
          "output_type": "display_data",
          "data": {
            "image/png": "[encoded data removed]",
            "text/plain": [
              "<Figure size 1008x648 with 9 Axes>"
            ]
          },
          "metadata": {}
        }
      ]
    },
    {
      "cell_type": "code",
      "metadata": {
        "id": "moCFd_pg--Iu"
      },
      "source": [
        "# Gráfico de distribución para cada variable numérica\n",
        "# ==============================================================================\n",
        "# Ajustar número de subplots en función del número de columnas\n",
        "fig, axes = plt.subplots(nrows=3, ncols=3, figsize=(14, 9))\n",
        "axes = axes.flat\n",
        "columnas_numeric = dupla_cluster.select_dtypes(include=['float64', 'int']).columns\n",
        "columnas_numeric = columnas_numeric.drop('RATIO_RENTABILIDAD')\n",
        "\n",
        "for i, colum in enumerate(columnas_numeric):\n",
        "    sns.regplot(\n",
        "        x           = dupla_cluster[colum],\n",
        "        y           = dupla_cluster['RATIO_RENTABILIDAD'],\n",
        "        color       = \"gray\",\n",
        "        marker      = '.',\n",
        "        scatter_kws = {\"alpha\":0.4},\n",
        "        line_kws    = {\"color\":\"r\",\"alpha\":0.7},\n",
        "        ax          = axes[i]\n",
        "    )\n",
        "    axes[i].set_title(f\"Saldo puntual x vs {colum}\", fontsize = 7, fontweight = \"bold\")\n",
        "    #axes[i].ticklabel_format(style='sci', scilimits=(-4,4), axis='both')\n",
        "    axes[i].yaxis.set_major_formatter(ticker.EngFormatter())\n",
        "    axes[i].xaxis.set_major_formatter(ticker.EngFormatter())\n",
        "    axes[i].tick_params(labelsize = 6)\n",
        "    axes[i].set_xlabel(\"\")\n",
        "    axes[i].set_ylabel(\"\")\n",
        "\n",
        "# Se eliminan los axes vacíos\n",
        "for i in [8]:\n",
        "    fig.delaxes(axes[i])\n",
        "    \n",
        "fig.tight_layout()\n",
        "plt.subplots_adjust(top=1)\n",
        "fig.suptitle('Correlación con saldo', fontsize = 10, fontweight = \"bold\");"
      ],
      "execution_count": null,
      "outputs": []
    }
  ]
}